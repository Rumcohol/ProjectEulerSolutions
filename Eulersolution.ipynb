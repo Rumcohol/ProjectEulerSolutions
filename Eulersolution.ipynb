{
 "cells": [
  {
   "cell_type": "code",
   "execution_count": null,
   "id": "0caed068",
   "metadata": {},
   "outputs": [],
   "source": [
    "#Solutions to Euler Project \n",
    "#By Rupesh Mahore 28/11/2022"
   ]
  },
  {
   "cell_type": "code",
   "execution_count": null,
   "id": "acc60ab1",
   "metadata": {},
   "outputs": [],
   "source": []
  },
  {
   "cell_type": "code",
   "execution_count": null,
   "id": "46d1b772",
   "metadata": {},
   "outputs": [],
   "source": [
    "#Problem 3\n",
    "\n",
    "#The prime factors of 13195 are 5, 7, 13 and 29. What is the largest prime factor of the number 600851475143 ?"
   ]
  },
  {
   "cell_type": "code",
   "execution_count": 10,
   "id": "3e9e3408",
   "metadata": {},
   "outputs": [
    {
     "name": "stdout",
     "output_type": "stream",
     "text": [
      "6857\n"
     ]
    }
   ],
   "source": [
    "# prime factorization function\n",
    "def prime_factors(n):\n",
    "    # list to store the prime factors\n",
    "    factors = []\n",
    "    # divide by 2 until the number is odd\n",
    "    while n % 2 == 0:\n",
    "        factors.append(2)\n",
    "        n = n / 2\n",
    "    # check for odd factors up to the square root of the number\n",
    "    for i in range(3,int(math.sqrt(n))+1,2):\n",
    "        # divide by the factor until the number is no longer divisible\n",
    "        while n % i== 0:\n",
    "            factors.append(i)\n",
    "            n = n / i\n",
    "    # if the number is greater than 2, it must be prime\n",
    "    if n > 2:\n",
    "        factors.append(int(n))\n",
    "    return factors\n",
    "\n",
    "# import the math module for the square root function\n",
    "import math\n",
    "\n",
    "# initialize the number to be factored\n",
    "number = 600851475143\n",
    "\n",
    "# get the prime factors of the number\n",
    "factors = prime_factors(number)\n",
    "\n",
    "# print the maximum prime factor\n",
    "print(max(factors))\n"
   ]
  },
  {
   "cell_type": "code",
   "execution_count": null,
   "id": "6d3e7aef",
   "metadata": {},
   "outputs": [],
   "source": []
  },
  {
   "cell_type": "code",
   "execution_count": null,
   "id": "df2a7273",
   "metadata": {},
   "outputs": [],
   "source": []
  },
  {
   "cell_type": "code",
   "execution_count": null,
   "id": "8d0caa54",
   "metadata": {},
   "outputs": [],
   "source": [
    "#Problem 6\n",
    "#Find the difference between the sum of the squares of the first one hundred natural numbers and the square of the sum."
   ]
  },
  {
   "cell_type": "code",
   "execution_count": 1,
   "id": "45a23e8b",
   "metadata": {},
   "outputs": [
    {
     "name": "stdout",
     "output_type": "stream",
     "text": [
      "25164150\n"
     ]
    }
   ],
   "source": [
    "# Initialize variables to store the sum of the squares and the square of the sum\n",
    "sum_of_squares = 0\n",
    "square_of_sum = 0\n",
    "\n",
    "# Loop through the first 100 natural numbers\n",
    "for i in range(1, 101):\n",
    "  # Add the square of the current number to the sum of squares\n",
    "  sum_of_squares += i**2\n",
    "  # Add the current number to the square of the sum\n",
    "  square_of_sum += i\n",
    "\n",
    "# Calculate the square of the sum and store it in a variable\n",
    "square_of_sum = square_of_sum**2\n",
    "\n",
    "# Calculate the difference between the sum of squares and the square of the sum\n",
    "difference = square_of_sum - sum_of_squares\n",
    "\n",
    "# Print the result\n",
    "print(difference)\n"
   ]
  },
  {
   "cell_type": "code",
   "execution_count": null,
   "id": "7a36295a",
   "metadata": {},
   "outputs": [],
   "source": []
  },
  {
   "cell_type": "code",
   "execution_count": null,
   "id": "f0c1a427",
   "metadata": {},
   "outputs": [],
   "source": [
    "# Problem 9\n",
    "#A Pythagorean triplet is a set of three natural numbers, a < b < c, for which,\n",
    "\n",
    "#a2 + b2 = c2\n",
    "#For example, 32 + 42 = 9 + 16 = 25 = 52.\n",
    "\n",
    "#There exists exactly one Pythagorean triplet for which a + b + c = 1000.\n",
    "#Find the product abc"
   ]
  },
  {
   "cell_type": "code",
   "execution_count": 3,
   "id": "bf1e11ac",
   "metadata": {},
   "outputs": [
    {
     "name": "stdout",
     "output_type": "stream",
     "text": [
      "31875000\n"
     ]
    }
   ],
   "source": [
    "# function to check if the given triplet (a, b, c) is a Pythagorean triplet\n",
    "def is_pythagorean_triplet(a, b, c):\n",
    "    return a**2 + b**2 == c**2\n",
    "\n",
    "# function to find the Pythagorean triplet whose sum is 1000\n",
    "def find_triplet():\n",
    "    for a in range(1, 1000):\n",
    "        for b in range(a+1, 1000):\n",
    "            c = 1000 - a - b\n",
    "            if is_pythagorean_triplet(a, b, c):\n",
    "                return (a, b, c)\n",
    "\n",
    "# find the triplet and print the product of its elements\n",
    "triplet = find_triplet()\n",
    "print(triplet[0] * triplet[1] * triplet[2])\n"
   ]
  },
  {
   "cell_type": "code",
   "execution_count": null,
   "id": "9bef7d99",
   "metadata": {},
   "outputs": [],
   "source": []
  },
  {
   "cell_type": "code",
   "execution_count": null,
   "id": "4a066ab6",
   "metadata": {},
   "outputs": [],
   "source": [
    "# Project Euler Problem 12\n",
    "\n",
    "#The sequence of triangle numbers is generated by adding the natural numbers. So the 7th triangle number would be 1 + 2 + 3 + 4 + 5 + 6 + 7 = 28. The first ten terms would be:\n",
    "\n",
    "#1, 3, 6, 10, 15, 21, 28, 36, 45, 55, ...\n",
    "\n",
    "#Let us list the factors of the first seven triangle numbers:\n",
    "\n",
    "# 1: 1\n",
    "#3: 1,3\n",
    "#6: 1,2,3,6\n",
    "#10: 1,2,5,10\n",
    "#15: 1,3,5,15\n",
    "#21: 1,3,7,21\n",
    "#28: 1,2,4,7,14,28\n",
    "#We can see that 28 is the first triangle number to have over five divisors.\n",
    "\n",
    "#What is the value of the first triangle number to have over five hundred divisors?"
   ]
  },
  {
   "cell_type": "code",
   "execution_count": 4,
   "id": "c82413d8",
   "metadata": {},
   "outputs": [
    {
     "name": "stdout",
     "output_type": "stream",
     "text": [
      "76576500\n"
     ]
    }
   ],
   "source": [
    "# Project Euler Problem 12\n",
    "\n",
    "def find_triangle_number_divisors(min_divisors):\n",
    "    triangle_number = 0\n",
    "    i = 1\n",
    "    while True:\n",
    "        triangle_number += i\n",
    "        i += 1\n",
    "        divisors = 0\n",
    "        for j in range(1, int(triangle_number ** 0.5) + 1):\n",
    "            if triangle_number % j == 0:\n",
    "                divisors += 2\n",
    "        if divisors >= min_divisors:\n",
    "            return triangle_number\n",
    "\n",
    "print(find_triangle_number_divisors(500))\n"
   ]
  },
  {
   "cell_type": "code",
   "execution_count": 7,
   "id": "9bb93e5c",
   "metadata": {},
   "outputs": [],
   "source": [
    "n=2"
   ]
  },
  {
   "cell_type": "code",
   "execution_count": 1,
   "id": "0313d6a4",
   "metadata": {},
   "outputs": [],
   "source": []
  },
  {
   "cell_type": "code",
   "execution_count": null,
   "id": "45a8e25b",
   "metadata": {},
   "outputs": [],
   "source": [
    "#Problem 15"
   ]
  },
  {
   "cell_type": "code",
   "execution_count": 3,
   "id": "7c72086b",
   "metadata": {},
   "outputs": [
    {
     "name": "stdout",
     "output_type": "stream",
     "text": [
      "137846528820.0\n"
     ]
    }
   ],
   "source": [
    "def factorial(n):\n",
    "    if n == 0:\n",
    "        return 1\n",
    "    else:\n",
    "        return n * factorial(n-1)\n",
    "\n",
    "def lattice_paths(n):\n",
    "    return factorial(2*n) / (factorial(n) ** 2)\n",
    "\n",
    "print(lattice_paths(20))\n"
   ]
  },
  {
   "cell_type": "code",
   "execution_count": null,
   "id": "0cf9a872",
   "metadata": {},
   "outputs": [],
   "source": []
  },
  {
   "cell_type": "code",
   "execution_count": null,
   "id": "e8540cc1",
   "metadata": {},
   "outputs": [],
   "source": [
    "#Prolem 19"
   ]
  },
  {
   "cell_type": "code",
   "execution_count": 9,
   "id": "6471361d",
   "metadata": {},
   "outputs": [
    {
     "name": "stdout",
     "output_type": "stream",
     "text": [
      "0\n"
     ]
    }
   ],
   "source": [
    "# initialize variables to keep track of the number of Sundays on the first of the month\n",
    "sundays = 0\n",
    "day_of_week = 6 # 1 = Monday, 2 = Tuesday, etc.\n",
    "\n",
    "# iterate through each year\n",
    "for year in range(1900, 2001):\n",
    "    # iterate through each month\n",
    "    for month in range(1, 13):\n",
    "        # if the month is September, April, June, or November, there are 30 days\n",
    "        if month in [9, 4, 6, 11]:\n",
    "            num_days = 30\n",
    "        # if the month is February\n",
    "        elif month == 2:\n",
    "            # if the year is a leap year, there are 29 days in February\n",
    "            if year % 4 == 0 and (year % 100 != 0 or year % 400 == 0):\n",
    "                num_days = 29\n",
    "            # otherwise, there are 28 days in February\n",
    "            else:\n",
    "                num_days = 28\n",
    "        # all other months have 31 days\n",
    "        else:\n",
    "            num_days = 31\n",
    "        \n",
    "        # if the first of the month is a Sunday, add 1 to the count of Sundays\n",
    "        if day_of_week == 7:\n",
    "            sundays += 1\n",
    "        \n",
    "        # update the day of the week by adding the number of days in the month\n",
    "        day_of_week += num_days\n",
    "        # if the day of the week is now greater than 7, subtract 7 to get the correct day of the week\n",
    "        if day_of_week > 7:\n",
    "            day_of_week -= 7\n",
    "\n",
    "# print the total number of Sundays on the first of the month\n",
    "print(sundays)\n"
   ]
  },
  {
   "cell_type": "code",
   "execution_count": null,
   "id": "23a56fe5",
   "metadata": {},
   "outputs": [],
   "source": [
    "#Problem 21"
   ]
  },
  {
   "cell_type": "code",
   "execution_count": 11,
   "id": "1bbed70f",
   "metadata": {},
   "outputs": [
    {
     "name": "stdout",
     "output_type": "stream",
     "text": [
      "31626\n"
     ]
    }
   ],
   "source": [
    "def proper_divisor_sum(n):\n",
    "    sum = 0\n",
    "    for i in range(1, n):\n",
    "        if n % i == 0:\n",
    "            sum += i\n",
    "    return sum\n",
    "\n",
    "def euler_problem_21(n):\n",
    "    amicable_numbers = []\n",
    "    for a in range(2, n):\n",
    "        b = proper_divisor_sum(a)\n",
    "        if a == proper_divisor_sum(b) and a != b:\n",
    "            amicable_numbers.append(a)\n",
    "    return sum(amicable_numbers)\n",
    "\n",
    "print(euler_problem_21(10000))\n"
   ]
  },
  {
   "cell_type": "code",
   "execution_count": 12,
   "id": "109303ed",
   "metadata": {},
   "outputs": [],
   "source": [
    "#Problem 24"
   ]
  },
  {
   "cell_type": "code",
   "execution_count": null,
   "id": "2ab9a940",
   "metadata": {},
   "outputs": [],
   "source": [
    "from itertools import permutations\n",
    "\n",
    "# Get all permutations of the digits 0-9\n",
    "perms = permutations([0, 1, 2, 3, 4, 5, 6, 7, 8, 9])\n",
    "\n",
    "# Convert the permutations to a list of lists\n",
    "perms_list = list(perms)\n",
    "\n",
    "# Get the millionth permutation (index 999,999 since the list is 0-indexed)\n",
    "millionth_perm = perms_list[999999]\n",
    "\n",
    "# Join the digits in the permutation and print the result\n",
    "result = ''.join([str(d) for d in millionth_perm])\n",
    "print(result)\n"
   ]
  }
 ],
 "metadata": {
  "kernelspec": {
   "display_name": "Python 3 (ipykernel)",
   "language": "python",
   "name": "python3"
  },
  "language_info": {
   "codemirror_mode": {
    "name": "ipython",
    "version": 3
   },
   "file_extension": ".py",
   "mimetype": "text/x-python",
   "name": "python",
   "nbconvert_exporter": "python",
   "pygments_lexer": "ipython3",
   "version": "3.9.7"
  }
 },
 "nbformat": 4,
 "nbformat_minor": 5
}
